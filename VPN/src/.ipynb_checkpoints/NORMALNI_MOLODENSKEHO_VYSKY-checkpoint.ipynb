{
 "cells": [
  {
   "cell_type": "code",
   "execution_count": 4,
   "id": "37a8867d-c1e9-4c47-8dc4-32ba198e9164",
   "metadata": {},
   "outputs": [
    {
     "name": "stdout",
     "output_type": "stream",
     "text": [
      "[9.81084147 9.81084575 9.81085001 9.81085335]\n",
      "Bod                H [m]              H_Q [m]                h [m]              h_Q [m]      c_gamma_AB [mm]    c_Delta_g_AB [mm]\n",
      "----------------------------------------------------------------------------------------------------------------------------------\n",
      "33           616.595000           616.595000             0.000000             0.000000             0.000000             0.000000\n",
      "34           634.090950           634.091485            17.495950            17.496485            -0.274788             0.809437\n",
      "35           655.703450           655.704744            21.612500            21.613259            -0.281743             1.040906\n",
      "36           667.925650           667.927330            12.222200            12.222587            -0.226936             0.613523\n"
     ]
    }
   ],
   "source": [
    "import numpy as np\n",
    "\n",
    "# --- Data ---\n",
    "\n",
    "data = np.array([\n",
    "    [33.1, 616.595, 50, 11, 58.8, 16, 55, 08.3, 980938.5930],\n",
    "    [34,   17.49595, 50, 12, 16.1, 16, 55, 01.5, 980934.9442],\n",
    "    [35,   21.61250, 50, 12, 33.3, 16, 55, 14.8, 980931.1021],\n",
    "    [36,   12.22220, 50, 12, 46.8, 16, 55, 46.8, 980929.2559],\n",
    "])\n",
    "\n",
    "# --- Převody ---\n",
    "def dms2dec(deg, minute, sec):\n",
    "    return deg + minute / 60 + sec / 3600\n",
    "\n",
    "rad = np.pi / 180\n",
    "\n",
    "# --- Rozdělení dat ---\n",
    "cb = data[:, 0].astype(int)\n",
    "h = data[:, 1]\n",
    "B = dms2dec(data[:, 2], data[:, 3], data[:, 4]) * rad\n",
    "L = dms2dec(data[:, 5], data[:, 6], data[:, 7]) * rad\n",
    "g = data[:, 8] * 1e-5\n",
    "\n",
    "# --- Přibližný výpočet ---\n",
    "H = np.cumsum(h)\n",
    "\n",
    "# --- Normální ortometrická korekce ---\n",
    "delta_B = np.diff(B) / rad * 3600\n",
    "H_s = (H[:-1] + H[1:]) / 2\n",
    "c_gamma_AB = -0.0000254 * H_s * delta_B * 0.001\n",
    "\n",
    "# --- Korekce z tíhových anomálií ---\n",
    "gamma_0 = (978030 * (1 + 0.005302 * np.sin(B)**2 - 0.000007 * np.sin(2 * B)**2)) * 1e-5\n",
    "print(gamma_0)\n",
    "Delta_g_F = g + 0.3086 * 1e-5 * H - gamma_0\n",
    "H_niv = h[1:]\n",
    "Delta_g_F_AB = (Delta_g_F[:-1] + Delta_g_F[1:]) / 2\n",
    "c_Delta_g_AB = 0.0010193 * 1e5 * Delta_g_F_AB * H_niv * 0.001\n",
    "\n",
    "# --- Normální Moloděnského výška ---\n",
    "h_Q = H_niv + c_gamma_AB + c_Delta_g_AB\n",
    "H_Q = H.copy()\n",
    "H_Q[1:] = H[1:] + np.cumsum(c_gamma_AB + c_Delta_g_AB)\n",
    "\n",
    "# --- Výstup ---\n",
    "h[0] = 0\n",
    "h_Q = np.insert(h_Q, 0, 0)\n",
    "c_gamma_AB = np.insert(c_gamma_AB, 0, 0)\n",
    "c_Delta_g_AB = np.insert(c_Delta_g_AB, 0, 0)\n",
    "\n",
    "print(f\"{'Bod':>2} {'H [m]':>20} {'H_Q [m]':>20} {'h [m]':>20} {'h_Q [m]':>20} {'c_gamma_AB [mm]':>20} {'c_Delta_g_AB [mm]':>20}\")\n",
    "print(\"-\" * 130)\n",
    "for i in range(len(H)):\n",
    "    print(f\"{cb[i]:2d} {H[i]:20.6f} {H_Q[i]:20.6f} {h[i]:20.6f} {h_Q[i]:20.6f} {c_gamma_AB[i]*1000:20.6f} {c_Delta_g_AB[i]*1000:20.6f}\")\n"
   ]
  },
  {
   "cell_type": "code",
   "execution_count": null,
   "id": "3aa0e40f-5597-4ac4-9f15-572c1376dc41",
   "metadata": {},
   "outputs": [],
   "source": []
  }
 ],
 "metadata": {
  "kernelspec": {
   "display_name": "Python 3 (ipykernel)",
   "language": "python",
   "name": "python3"
  },
  "language_info": {
   "codemirror_mode": {
    "name": "ipython",
    "version": 3
   },
   "file_extension": ".py",
   "mimetype": "text/x-python",
   "name": "python",
   "nbconvert_exporter": "python",
   "pygments_lexer": "ipython3",
   "version": "3.12.10"
  }
 },
 "nbformat": 4,
 "nbformat_minor": 5
}
